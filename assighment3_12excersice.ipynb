{
 "cells": [
  {
   "cell_type": "code",
   "execution_count": 1,
   "metadata": {},
   "outputs": [
    {
     "name": "stdout",
     "output_type": "stream",
     "text": [
      "Twinkle, twinkle, little star\n",
      "\t\tHow I wonder what you are!\n",
      "\t\t\tUp above the world so high,\n",
      "\t\t\tLike a diamond in the sky.\n",
      "Twinkle, twinkle, little star\n",
      "\t\tHow I wonder what you are!\n"
     ]
    }
   ],
   "source": [
    "\"\"\"WRITE A PYHTN PROGRAM TO PRINT THE FOLLOWING STRING IN A SPECIFIC FORMAT\n",
    "Twinkle, twinkle, little star\n",
    "         How I wonder what you are!\n",
    "                Up above the world so high,\n",
    "                Like a diamond in the sky.\n",
    "Twinkle, twinkle, little star\n",
    "         How I wonder what you are!\"\"\"\n",
    "\n",
    "\n",
    "\n",
    "\n",
    "print(\"Twinkle, twinkle, little star\")\n",
    "print(\"\\t\\tHow I wonder what you are!\")\n",
    "print(\"\\t\\t\\tUp above the world so high,\")\n",
    "print(\"\\t\\t\\tLike a diamond in the sky.\")\n",
    "print(\"Twinkle, twinkle, little star\")\n",
    "print(\"\\t\\tHow I wonder what you are!\")"
   ]
  },
  {
   "cell_type": "code",
   "execution_count": 2,
   "metadata": {},
   "outputs": [
    {
     "name": "stdout",
     "output_type": "stream",
     "text": [
      "Python version i am using\n",
      "3.8.5 (default, Jul 28 2020, 12:59:40) \n",
      "[GCC 9.3.0]\n"
     ]
    }
   ],
   "source": [
    "''''Q2: WTITE A PYTHON PROGRAM TO GET THE PYTHON VERSION YOU ARE USING'''\n",
    "\n",
    "import sys\n",
    "\n",
    "print(\"Python version i am using\")\n",
    "print(sys.version)"
   ]
  },
  {
   "cell_type": "code",
   "execution_count": 3,
   "metadata": {},
   "outputs": [
    {
     "name": "stdout",
     "output_type": "stream",
     "text": [
      "Current date is: \n",
      "2021-10-24\n",
      "Current time: \n",
      "17:05:28\n"
     ]
    }
   ],
   "source": [
    "'''WRITE  A PYTHON PROGRAM TO PRINT THE CURRENT DATE AND TIME'''\n",
    "\n",
    "import datetime\n",
    "\n",
    "now = datetime.datetime.now()\n",
    "print (\"Current date is: \")\n",
    "print (now.strftime(\"%Y-%m-%d\"))\n",
    "print (\"Current time: \")\n",
    "print (now.strftime(\"%H:%M:%S\"))"
   ]
  },
  {
   "cell_type": "code",
   "execution_count": 4,
   "metadata": {},
   "outputs": [
    {
     "name": "stdout",
     "output_type": "stream",
     "text": [
      "Enter the value of radius of the circle: 12\n",
      "AREA of the circle = 452.16\n"
     ]
    }
   ],
   "source": [
    "# WRITE A PROGRAM WHICH ACCEPTS THE RADIUS OF THE CIRCLE AND PRINT ITS AREA\n",
    "r = float(input(\"Enter the value of radius of the circle: \"))\n",
    "\n",
    "print(\"AREA of the circle = \" + str(3.14 * (r*r)))"
   ]
  },
  {
   "cell_type": "code",
   "execution_count": 5,
   "metadata": {},
   "outputs": [
    {
     "name": "stdout",
     "output_type": "stream",
     "text": [
      "first name: Afifa\n",
      "last name: Aseer\n",
      "Aseer Afifa\n"
     ]
    }
   ],
   "source": [
    "'''WRITE A PROGRAM IN PYTHON THAT ACCEPTS THE USERS FIRST AND LAST NAME AND \n",
    "PRINT IN REVERSE ORDER WITH A SPACE BETWEEN THEM'''\n",
    "\n",
    "f_name = input(\"first name: \")\n",
    "l_name = input(\"last name: \")\n",
    "print(l_name + \" \" + f_name)"
   ]
  },
  {
   "cell_type": "code",
   "execution_count": 6,
   "metadata": {},
   "outputs": [
    {
     "name": "stdout",
     "output_type": "stream",
     "text": [
      "Enter first number  35.2\n",
      "Enter second number  78.8\n",
      "Addition of the above numbers is 114.0\n"
     ]
    }
   ],
   "source": [
    "#WRITE A PROGRAM WHICH TAKE 2 INPUTS FROM THE USER AND PRINT THEIR ADDITION\n",
    "\n",
    "n_1 = float(input(\"Enter first number  \"))\n",
    "n_2 = float(input(\"Enter second number  \"))\n",
    "print(\"Addition of the above numbers is \" +str(n_1+n_2))"
   ]
  },
  {
   "cell_type": "code",
   "execution_count": 7,
   "metadata": {},
   "outputs": [
    {
     "name": "stdout",
     "output_type": "stream",
     "text": [
      "English Marks: 92\n",
      "Maths Marks: 98\n",
      "Computer Marks: 78\n",
      "Physics Marks: 73\n",
      "Chemistry Marks: 90\n",
      "\n",
      "Total Marks =431.00  \n",
      "Marks Percentage = 86.20%\n",
      "A1 grade\n"
     ]
    }
   ],
   "source": [
    "#MARKSHEET\n",
    "\n",
    "english = float(input(\"English Marks: \"))\n",
    "maths = float(input(\"Maths Marks: \"))\n",
    "computer = float(input(\"Computer Marks: \"))\n",
    "physics = float(input(\"Physics Marks: \"))\n",
    "chemistry = float(input(\"Chemistry Marks: \"))\n",
    " \n",
    "total = english + maths + computer + physics + chemistry\n",
    "per = (total / 500) * 100\n",
    " \n",
    "print(\"\\nTotal Marks =%.2f  \"  %total)\n",
    "print(\"Marks Percentage = %.2f\"  %per+\"%\")\n",
    "#calculating grade\n",
    "if per>100 and per<0:\n",
    "    print(\"invalid input\");\n",
    "elif per<=100 and per>=80:\n",
    "    print(\"A1 grade\");\n",
    "elif per<80 and per>=70:\n",
    "    print(\"A grade\");\n",
    "elif per<70 and per>=60:\n",
    "    print(\"B grade\");\n",
    "elif per<60 and per>=50:\n",
    "    print(\"C grade\");\n",
    "elif per<50 and per>=40:\n",
    "    print(\"D grade\");\n",
    "elif per<40 and per>=33:\n",
    "    print(\"E grade\");\n",
    "elif per<33:\n",
    "    print(\"Failed\");"
   ]
  },
  {
   "cell_type": "code",
   "execution_count": 8,
   "metadata": {},
   "outputs": [
    {
     "name": "stdout",
     "output_type": "stream",
     "text": [
      "Enter number: 448\n",
      "The given number is even\n"
     ]
    }
   ],
   "source": [
    "#Q8: A program that take input from user and identify even and odd\n",
    "\n",
    "num = int(input(\"Enter number: \"))\n",
    "\n",
    "if num%2 == 0:\n",
    " print(\"The given number is even\")\n",
    "\n",
    "else:\n",
    " print(\"The given number is odd\")"
   ]
  },
  {
   "cell_type": "code",
   "execution_count": 9,
   "metadata": {},
   "outputs": [
    {
     "name": "stdout",
     "output_type": "stream",
     "text": [
      "Length of the list is: 5\n"
     ]
    }
   ],
   "source": [
    "#Q9: List length\n",
    "\n",
    "fruits = ['Apple', 'Banana', 'Mango', 'Orange','Pineapple']\n",
    "print(\"Length of the list is:\",len(fruits))"
   ]
  },
  {
   "cell_type": "code",
   "execution_count": 10,
   "metadata": {},
   "outputs": [
    {
     "name": "stdout",
     "output_type": "stream",
     "text": [
      "[10, 18, 12, 4, 16, 28, 2]\n",
      "Sum all the numeric items in a list = 90\n"
     ]
    }
   ],
   "source": [
    "#10.Write a Python program to sum all the numeric items in a list?\n",
    "numeric_list = [10,18,12,4,16,28,2]\n",
    "print(numeric_list)\n",
    "print(\"Sum all the numeric items in a list = \"+str(sum(numeric_list)))"
   ]
  },
  {
   "cell_type": "code",
   "execution_count": 11,
   "metadata": {},
   "outputs": [
    {
     "name": "stdout",
     "output_type": "stream",
     "text": [
      "28\n"
     ]
    }
   ],
   "source": [
    "#LARGEST NUMBER IN A NUMERIC LIST\n",
    "print(max(numeric_list))"
   ]
  },
  {
   "cell_type": "code",
   "execution_count": 13,
   "metadata": {},
   "outputs": [
    {
     "name": "stdout",
     "output_type": "stream",
     "text": [
      "4\n",
      "2\n"
     ]
    }
   ],
   "source": [
    "#WRITE A PROGRA THAT PRINTS ALL THE NUMBERS IN THE LIST THAT ARE LESS THA 5\n",
    "\n",
    "for n in numeric_list:\n",
    "    if n < 5:\n",
    "        print(n)"
   ]
  },
  {
   "cell_type": "code",
   "execution_count": null,
   "metadata": {},
   "outputs": [],
   "source": []
  }
 ],
 "metadata": {
  "kernelspec": {
   "display_name": "Python 3",
   "language": "python",
   "name": "python3"
  },
  "language_info": {
   "codemirror_mode": {
    "name": "ipython",
    "version": 3
   },
   "file_extension": ".py",
   "mimetype": "text/x-python",
   "name": "python",
   "nbconvert_exporter": "python",
   "pygments_lexer": "ipython3",
   "version": "3.8.5"
  }
 },
 "nbformat": 4,
 "nbformat_minor": 4
}
